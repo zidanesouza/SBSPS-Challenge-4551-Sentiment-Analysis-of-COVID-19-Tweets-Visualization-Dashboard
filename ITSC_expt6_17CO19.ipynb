{
  "nbformat": 4,
  "nbformat_minor": 0,
  "metadata": {
    "language_info": {
      "codemirror_mode": {
        "name": "ipython",
        "version": 3
      },
      "file_extension": ".py",
      "mimetype": "text/x-python",
      "name": "python",
      "nbconvert_exporter": "python",
      "pygments_lexer": "ipython3",
      "version": "3.8.1-final"
    },
    "orig_nbformat": 2,
    "kernelspec": {
      "name": "python3",
      "display_name": "Python 3.8.1 32-bit",
      "metadata": {
        "interpreter": {
          "hash": "6d58817d7a36abfa3a827e4c983e24a2b2aeec7ad475bf8b9406aeab7b3302d2"
        }
      }
    },
    "colab": {
      "name": "ITSC_expt6_17CO19.ipynb",
      "provenance": [],
      "include_colab_link": true
    }
  },
  "cells": [
    {
      "cell_type": "markdown",
      "metadata": {
        "id": "view-in-github",
        "colab_type": "text"
      },
      "source": [
        "<a href=\"https://colab.research.google.com/github/zidanesouza/SBSPS-Challenge-4551-Sentiment-Analysis-of-COVID-19-Tweets-Visualization-Dashboard/blob/master/ITSC_expt6_17CO19.ipynb\" target=\"_parent\"><img src=\"https://colab.research.google.com/assets/colab-badge.svg\" alt=\"Open In Colab\"/></a>"
      ]
    },
    {
      "cell_type": "code",
      "metadata": {
        "id": "Mqw7foNkyzBr",
        "outputId": "7410b1ba-0c55-4325-e722-dc6c4794fe8a"
      },
      "source": [
        "import numpy as np\n",
        "input = np.array([[2,0,1],[2,-2,1],[1,-2,-1]])\n",
        "print('Training Inputs are:')\n",
        "print(input)\n",
        "weight = np.array([1,0,1])\n",
        "print('Initial Weights are:')\n",
        "print(weight)\n",
        "d=np.array([-1,1,1])\n",
        "c=0.5\n",
        "    \n",
        "j=0\n",
        "for i in input:\n",
        "    print(\"c=\",c)\n",
        "    net=np.dot(i,weight)\n",
        "    print(\"net=\",net)\n",
        "    temp=c*(d[j]-net)\n",
        "    print(\"temp=\",temp)\n",
        "    del_w=np.dot(temp,i)\n",
        "    print(\"delw=\",del_w)\n",
        "    weight=weight+del_w\n",
        "    j=j+1\n",
        "    print(\"j=\",j)\n",
        "    print(\"updated weight is\",weight)\n"
      ],
      "execution_count": null,
      "outputs": [
        {
          "output_type": "stream",
          "text": [
            "Training Inputs are:\n",
            "[[ 2  0  1]\n",
            " [ 2 -2  1]\n",
            " [ 1 -2 -1]]\n",
            "Initial Weights are:\n",
            "[1 0 1]\n",
            "c= 0.5\n",
            "net= 3\n",
            "temp= -2.0\n",
            "delw= [-4.  0. -2.]\n",
            "j= 1\n",
            "updated weight is [-3.  0. -1.]\n",
            "c= 0.5\n",
            "net= -7.0\n",
            "temp= 4.0\n",
            "delw= [ 8. -8.  4.]\n",
            "j= 2\n",
            "updated weight is [ 5. -8.  3.]\n",
            "c= 0.5\n",
            "net= 18.0\n",
            "temp= -8.5\n",
            "delw= [-8.5 17.   8.5]\n",
            "j= 3\n",
            "updated weight is [-3.5  9.  11.5]\n"
          ],
          "name": "stdout"
        }
      ]
    },
    {
      "cell_type": "code",
      "metadata": {
        "id": "OWwZDi-GyzBs"
      },
      "source": [
        ""
      ],
      "execution_count": null,
      "outputs": []
    }
  ]
}