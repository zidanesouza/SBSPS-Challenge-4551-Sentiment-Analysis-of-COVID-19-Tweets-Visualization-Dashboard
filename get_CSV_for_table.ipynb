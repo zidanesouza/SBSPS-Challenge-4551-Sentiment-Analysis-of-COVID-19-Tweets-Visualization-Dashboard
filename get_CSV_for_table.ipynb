{
  "nbformat": 4,
  "nbformat_minor": 0,
  "metadata": {
    "colab": {
      "name": "get_CSV_for_table.ipynb",
      "provenance": [],
      "collapsed_sections": [],
      "include_colab_link": true
    },
    "kernelspec": {
      "name": "python3",
      "display_name": "Python 3"
    },
    "accelerator": "GPU"
  },
  "cells": [
    {
      "cell_type": "markdown",
      "metadata": {
        "id": "view-in-github",
        "colab_type": "text"
      },
      "source": [
        "<a href=\"https://colab.research.google.com/github/zidanesouza/SBSPS-Challenge-4551-Sentiment-Analysis-of-COVID-19-Tweets-Visualization-Dashboard/blob/master/get_CSV_for_table.ipynb\" target=\"_parent\"><img src=\"https://colab.research.google.com/assets/colab-badge.svg\" alt=\"Open In Colab\"/></a>"
      ]
    },
    {
      "cell_type": "code",
      "metadata": {
        "id": "l2_6V6HGfz5Y",
        "colab_type": "code",
        "colab": {}
      },
      "source": [
        "# import lots of stuff\n",
        "import sys\n",
        "import os\n",
        "import tweepy\n",
        "from tweepy import OAuthHandler\n",
        "from textblob import TextBlob\n",
        "\n",
        "import pandas as pd\n",
        "\n",
        "from datetime import datetime, timedelta\n",
        "from IPython.display import clear_output\n",
        "\n",
        "from os import path\n"
      ],
      "execution_count": 65,
      "outputs": []
    },
    {
      "cell_type": "code",
      "metadata": {
        "id": "NmOAMKm5f_So",
        "colab_type": "code",
        "colab": {}
      },
      "source": [
        "#@title Enter Twitter Credentials\n",
        "TWITTER_KEY = '' #@param {type:\"string\"}\n",
        "TWITTER_SECRET_KEY = '' #@param {type:\"string\"}\n",
        "access_key=''#@param {type:\"string\"}\n",
        "access_secret=''#@param {type:\"string\"}"
      ],
      "execution_count": 70,
      "outputs": []
    },
    {
      "cell_type": "code",
      "metadata": {
        "id": "ceB_P6Llf_gA",
        "colab_type": "code",
        "colab": {}
      },
      "source": [
        "# Authenticate\n",
        "auth = tweepy.OAuthHandler(TWITTER_KEY, TWITTER_SECRET_KEY)\n",
        "auth.set_access_token(access_key,access_secret)\n",
        "api = tweepy.API(auth, wait_on_rate_limit=True,\n",
        "\t\t\t\t   wait_on_rate_limit_notify=True)\n",
        "\n",
        "if (not api):\n",
        "    print (\"Can't Authenticate\")\n",
        "    sys.exit(-1)\n"
      ],
      "execution_count": 71,
      "outputs": []
    },
    {
      "cell_type": "code",
      "metadata": {
        "id": "Bn4b2yMRf_rn",
        "colab_type": "code",
        "colab": {
          "base_uri": "https://localhost:8080/",
          "height": 34
        },
        "outputId": "bbf8b55f-40db-41e5-af04-922f652e4fb0"
      },
      "source": [
        "#@title Twitter Search API Inputs\n",
        "#@markdown ### Enter Search Query:\n",
        "searchQuery = 'IndiaFightsCorona' #@param {type:\"string\"}\n",
        "#@markdown ### Enter Max Tweets To Scrape:\n",
        "#@markdown #### The Twitter API Rate Limit (currently) is 45,000 tweets every 15 minutes.\n",
        "maxTweets = 200 #@param {type:\"slider\", min:0, max:45000, step:100}\n",
        "Filter_Retweets = True #@param {type:\"boolean\"}\n",
        "\n",
        "tweetsPerQry = 10  # this is the max the API permits\n",
        "tweet_lst = []\n",
        "\n",
        "if Filter_Retweets:\n",
        "  searchQuery = searchQuery + ' -filter:retweets'  # to exclude retweets\n",
        "\n",
        "# If results from a specific ID onwards are reqd, set since_id to that ID.\n",
        "# else default to no lower limit, go as far back as API allows\n",
        "sinceId = None\n",
        "\n",
        "# If results only below a specific ID are, set max_id to that ID.\n",
        "# else default to no upper limit, start from the most recent tweet matching the search query.\n",
        "max_id = -10000000000\n",
        "\n",
        "tweetCount = 0\n",
        "print(\"Downloading max {0} tweets\".format(maxTweets))\n",
        "while tweetCount < maxTweets:\n",
        "    try:\n",
        "        if (max_id <= 0):\n",
        "            if (not sinceId):\n",
        "                new_tweets = api.search(q=searchQuery, count=tweetsPerQry, lang=\"en\")\n",
        "            else:\n",
        "                new_tweets = api.search(q=searchQuery, count=tweetsPerQry,\n",
        "                                        lang=\"en\", since_id=sinceId)\n",
        "        else:\n",
        "            if (not sinceId):\n",
        "                new_tweets = api.search(q=searchQuery, count=tweetsPerQry,\n",
        "                                        lang=\"en\", max_id=str(max_id - 1))\n",
        "            else:\n",
        "                new_tweets = api.search(q=searchQuery, count=tweetsPerQry,\n",
        "                                        lang=\"en\", max_id=str(max_id - 1),\n",
        "                                        since_id=sinceId)\n",
        "        if not new_tweets:\n",
        "            print(\"No more tweets found\")\n",
        "            break\n",
        "        for tweet in new_tweets:\n",
        "          if hasattr(tweet, 'reply_count'):\n",
        "            reply_count = tweet.reply_count\n",
        "          else:\n",
        "            reply_count = 0\n",
        "          if hasattr(tweet, 'retweeted'):\n",
        "            retweeted = tweet.retweeted\n",
        "          else:\n",
        "            retweeted = \"NA\"\n",
        "            \n",
        "          # fixup search query to get topic\n",
        "          topic = searchQuery[:searchQuery.find('-')].capitalize().strip()\n",
        "          \n",
        "          # fixup date\n",
        "          tweetDate = tweet.created_at.date()\n",
        "          \n",
        "          tweet_lst.append([tweetDate, topic, \n",
        "                      tweet.id, tweet.user.screen_name, tweet.user.name, tweet.text, tweet.favorite_count, \n",
        "                      reply_count, tweet.retweet_count, retweeted])\n",
        "\n",
        "        tweetCount += len(new_tweets)\n",
        "        print(\"Downloaded {0} tweets\".format(tweetCount))\n",
        "        max_id = new_tweets[-1].id\n",
        "    except tweepy.TweepError as e:\n",
        "        # Just exit if any error\n",
        "        print(\"some error : \" + str(e))\n",
        "        break\n",
        "\n",
        "clear_output()\n",
        "print(\"Downloaded {0} tweets\".format(tweetCount))"
      ],
      "execution_count": 72,
      "outputs": [
        {
          "output_type": "stream",
          "text": [
            "Downloaded 0 tweets\n"
          ],
          "name": "stdout"
        }
      ]
    },
    {
      "cell_type": "code",
      "metadata": {
        "id": "MaMaKRhPf_1u",
        "colab_type": "code",
        "colab": {
          "base_uri": "https://localhost:8080/",
          "height": 88
        },
        "outputId": "ad15a0f8-2028-432e-a756-63eba5ade8b4"
      },
      "source": [
        "pd.set_option('display.max_colwidth', -1)\n",
        "\n",
        "# load it into a pandas dataframe\n",
        "tweet_df = pd.DataFrame(tweet_lst, columns=['tweet_dt', 'topic', 'id', 'username', 'name', 'tweet', 'like_count', 'reply_count', 'retweet_count', 'retweeted'])\n",
        "tweet_df.to_csv('tweet_text_IndiaFightsCorona.csv')\n",
        "print(tweet_df['tweet'].to_csv('tweet_text_IndiaFightsCorona.csv'))# common file for both txt snd semnt analysis"
      ],
      "execution_count": 75,
      "outputs": [
        {
          "output_type": "stream",
          "text": [
            "None\n"
          ],
          "name": "stdout"
        },
        {
          "output_type": "stream",
          "text": [
            "/usr/local/lib/python3.6/dist-packages/ipykernel_launcher.py:1: FutureWarning: Passing a negative integer is deprecated in version 1.0 and will not be supported in future version. Instead, use None to not limit the column width.\n",
            "  \"\"\"Entry point for launching an IPython kernel.\n"
          ],
          "name": "stderr"
        }
      ]
    },
    {
      "cell_type": "code",
      "metadata": {
        "id": "jN732tpMsC9s",
        "colab_type": "code",
        "colab": {
          "base_uri": "https://localhost:8080/",
          "height": 85
        },
        "outputId": "436ddaa2-4892-4209-c9ef-590ba21733a0"
      },
      "source": [
        "# Hello Zidane, manually change the file to required file name\n",
        "# example change \"tweet_text_lockdown.csv\"  to \"tweet_text_IndiaFightsCorona.csv\" to get its tweet and sentiment etc\n",
        "\n",
        "import csv\n",
        "with open('tweet_text_IndiaFightsCorona.csv') as csvfile:\n",
        "      read_tweet = csv.reader(csvfile)\n",
        "      for row in read_tweet:\n",
        "           print(row[1])\n",
        "           print(\"ANSWER\")\n",
        "           print( TextBlob(row[1]).sentiment)\n",
        "           print(\" \")\n",
        "           "
      ],
      "execution_count": 73,
      "outputs": [
        {
          "output_type": "stream",
          "text": [
            "tweet\n",
            "ANSWER\n",
            "Sentiment(polarity=0.0, subjectivity=0.0)\n",
            " \n"
          ],
          "name": "stdout"
        }
      ]
    },
    {
      "cell_type": "code",
      "metadata": {
        "id": "kQhXss8gpbMW",
        "colab_type": "code",
        "colab": {
          "base_uri": "https://localhost:8080/",
          "height": 34
        },
        "outputId": "66a0203b-f7af-41e8-f450-2a46764a5bf8"
      },
      "source": [
        " \n",
        "TextBlob(\"@schrodie_twts @ankitatweetsyo *Gets hug*\\n\\n*Tests positive for covid-19* 🌝🌝\").sentiment\n",
        "       "
      ],
      "execution_count": 64,
      "outputs": [
        {
          "output_type": "execute_result",
          "data": {
            "text/plain": [
              "Sentiment(polarity=0.22727272727272727, subjectivity=0.5454545454545454)"
            ]
          },
          "metadata": {
            "tags": []
          },
          "execution_count": 64
        }
      ]
    },
    {
      "cell_type": "code",
      "metadata": {
        "id": "H-D5szZOsDTk",
        "colab_type": "code",
        "colab": {}
      },
      "source": [
        ""
      ],
      "execution_count": null,
      "outputs": []
    },
    {
      "cell_type": "code",
      "metadata": {
        "id": "MdnOF2l-sDkL",
        "colab_type": "code",
        "colab": {}
      },
      "source": [
        ""
      ],
      "execution_count": null,
      "outputs": []
    }
  ]
}